import pandas as pd

class RemoteWorkSurveyProcessor:
    def __init__(self, file_path):
        self.file_path = file_path
        self.df = None
        self.columns = [
            'ResponseId', 'MainBranch', 'Age', 'Country', 'EdLevel', 'WorkExp', 'CompTotal','Currency',
            'RemoteWork', 'Employment', 'OrgSize', 'JobSat', 'TimeSearching', 'TimeAnswering',
            'Frustration', 'SurveyLength', 'SurveyEase', 'YearsCode','YearsCodePro','DevType', 'BuildvsBuy', 'TechEndorse',
            'NEWCollabToolsHaveWorkedWith', 'NEWCollabToolsWantToWorkWith', 'OpSysProfessional use','OfficeStackAsyncHaveWorkedWith',
            'OfficeStackSyncHaveWorkedWith', 'SOComm', 'AISelect','AISearchDevHaveWorkedWith', 'TBranch','ICorPM'
            
        ]
# Load dữ liệu
    def load_data(self):
        try:
            self.df = pd.read_csv(self.file_path)
            print("Dữ liệu đã được tải thành công.")
        except Exception as e:
            print(f"Lỗi khi tải dữ liệu: {e}")
# Làm sạch dữ liệu
    def clean_and_select_columns(self):
        if self.df is None:
            print("Dữ liệu chưa được tải.")
            return
        
        # Kiểm tra các cột bị thiếu
        missing_columns = [col for col in self.columns if col not in self.df.columns]
        if missing_columns:
            print(f"Các cột bị thiếu trong dữ liệu: {missing_columns}")
            print("Danh sách cột hiện tại:", self.df.columns.tolist())
            return

        self.df = self.df[self.columns].copy()
        self.df.dropna(inplace=True)
        print("Dữ liệu đã được làm sạch và chọn cột thành công.")

    def get_dataframe(self):
        return self.df
## Cách sử dựng class trên
file_path = "H:\\Dự án tốt nghiệp\\stack-overflow-developer-survey-2024\\survey_results_public.csv"

processor = RemoteWorkSurveyProcessor(file_path)
processor.load_data()
processor.clean_and_select_columns()

df_cleaned = processor.get_dataframe()
print(df_cleaned.head())
