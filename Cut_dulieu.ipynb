{
 "cells": [
  {
   "cell_type": "code",
   "execution_count": null,
   "id": "f92d8d76",
   "metadata": {},
   "outputs": [],
   "source": [
    "import pandas as pd\n",
    "\n",
    "class RemoteWorkSurveyProcessor:\n",
    "    def __init__(self, file_path):\n",
    "        self.file_path = file_path\n",
    "        self.df = None\n",
    "        self.columns = [\n",
    "            'ResponseId', 'MainBranch', 'Age', 'Country', 'EdLevel', 'WorkExp', 'CompTotal', 'Currency',\n",
    "            'RemoteWork', 'Employment', 'OrgSize', 'JobSat', 'TimeSearching', 'TimeAnswering',\n",
    "            'Frustration', 'SurveyLength', 'SurveyEase', 'YearsCode', 'YearsCodePro', 'DevType',\n",
    "            'BuildvsBuy', 'TechEndorse', 'NEWCollabToolsHaveWorkedWith', 'NEWCollabToolsWantToWorkWith',\n",
    "            'OpSysProfessional use', 'OfficeStackAsyncHaveWorkedWith', 'OfficeStackSyncHaveWorkedWith',\n",
    "            'SOComm', 'AISelect', 'AISent', 'AIBen', 'AIAcce', 'AIToolCurrently Using', 'TBranch', 'ICorPM'\n",
    "        ]\n",
    "\n",
    "    # Load dữ liệu\n",
    "    def load_data(self):\n",
    "        try:\n",
    "            self.df = pd.read_csv(self.file_path)\n",
    "            print(\"Dữ liệu đã được tải thành công.\")\n",
    "        except Exception as e:\n",
    "            print(f\"Lỗi khi tải dữ liệu: {e}\")\n",
    "\n",
    "    # Làm sạch dữ liệu\n",
    "    def clean_and_select_columns(self):\n",
    "        if self.df is None:\n",
    "            print(\"Dữ liệu chưa được tải.\")\n",
    "            return\n",
    "\n",
    "        # Kiểm tra các cột bị thiếu\n",
    "        missing_columns = [col for col in self.columns if col not in self.df.columns]\n",
    "        if missing_columns:\n",
    "            print(f\"Các cột bị thiếu trong dữ liệu: {missing_columns}\")\n",
    "            print(\"Danh sách cột hiện tại:\", self.df.columns.tolist())\n",
    "            return\n",
    "\n",
    "        self.df = self.df[self.columns].copy()\n",
    "        self.df.dropna(inplace=True)\n",
    "        print(\"Dữ liệu đã được làm sạch và chọn cột thành công.\")\n",
    "\n",
    "    def get_dataframe(self):\n",
    "        return self.df\n",
    "\n",
    "# Cách sử dụng class trên\n",
    "file_path = \"H:\\\\Dự án tốt nghiệp\\\\stack-overflow-developer-survey-2024\\\\survey_results_public.csv\"\n",
    "\n",
    "processor = RemoteWorkSurveyProcessor(file_path)\n",
    "processor.load_data()\n",
    "processor.clean_and_select_columns()\n",
    "\n",
    "df_cleaned = processor.get_dataframe()\n",
    "print(df_cleaned.head())\n",
    "\n",
    "# Xuất ra Excel\n",
    "df_cleaned.to_excel(\"du_lieu.xlsx\", index=False, engine='openpyxl')\n",
    "print(\"Dữ liệu đã được lưu thành Excel tại: du_lieu.xlsx\")\n"
   ]
  },
  {
   "cell_type": "code",
   "execution_count": null,
   "id": "ad90ab31",
   "metadata": {},
   "outputs": [],
   "source": [
    "df_cleaned.to_excel(\"du_lieu.xlsx\", index=False, engine='openpyxl')\n",
    "print(\"Dữ liệu đã được lưu thành Excel tại: du_lieu.xlsx\")"
   ]
  }
 ],
 "metadata": {
  "language_info": {
   "name": "python"
  }
 },
 "nbformat": 4,
 "nbformat_minor": 5
}
