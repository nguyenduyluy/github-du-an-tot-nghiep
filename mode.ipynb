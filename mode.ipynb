{
 "cells": [
  {
   "cell_type": "code",
   "execution_count": 5,
   "id": "b30e58a9",
   "metadata": {},
   "outputs": [
    {
     "name": "stdout",
     "output_type": "stream",
     "text": [
      "✅ Đã lưu file: mode.xlsx\n"
     ]
    }
   ],
   "source": [
    "import pandas as pd\n",
    "\n",
    "# Đọc dữ liệu gốc từ file Excel\n",
    "df = pd.read_excel(\"du_lieu_sach_tong_hop.xlsx\", sheet_name=\"Sheet1\") \n",
    "\n",
    "# Khai báo class để chia bảng\n",
    "class DataModeler:\n",
    "    def __init__(self, df):\n",
    "        self.df = df\n",
    "\n",
    "    def build_fact_table(self):\n",
    "        fact_cols = [\n",
    "            'ResponseId', 'TimeSearching', 'TimeAnswering', 'Frustration',\n",
    "            'SurveyLength', 'SurveyEase', 'JobSat', 'SOComm',\n",
    "            'AISelect', 'AISearchDevHaveWorkedWith', 'Used_AI_Tools'\n",
    "        ]\n",
    "        return self.df[fact_cols]\n",
    "\n",
    "    def build_dim_respondent(self):\n",
    "        respondent_cols = ['ResponseId', 'Age', 'Country', 'EdLevel', 'YearsCodePro',  'YearsCode','WorkExp']\n",
    "        return self.df[respondent_cols].drop_duplicates()\n",
    "\n",
    "    def build_dim_employment(self):\n",
    "        employment_cols = ['ResponseId', 'Employment', 'OrgSize', 'DevType',\n",
    "                           'CompTotalUSD', 'TBranch', 'ICorPM', 'BranchGroup']\n",
    "        return self.df[employment_cols].drop_duplicates()\n",
    "\n",
    "    def build_dim_remote(self):\n",
    "        remote_cols = ['ResponseId', 'RemoteWork']\n",
    "        return self.df[remote_cols].drop_duplicates()\n",
    "\n",
    "    def build_dim_platform_tools(self):\n",
    "        tools_cols = ['ResponseId', 'OpSysProfessional use', 'OfficeStackAsyncHaveWorkedWith','Used_AsyncTools','Used_SyncTools',\n",
    "                      'OfficeStackSyncHaveWorkedWith','NEWCollabToolsHaveWorkedWith', 'NEWCollabToolsWantToWorkWith']\n",
    "        return self.df[tools_cols].drop_duplicates()\n",
    "\n",
    "    def export_to_excel(self, output_file):\n",
    "        with pd.ExcelWriter(output_file) as writer:\n",
    "            self.build_fact_table().to_excel(writer, sheet_name='FactProductivity', index=False)\n",
    "            self.build_dim_respondent().to_excel(writer, sheet_name='DimRespondent', index=False)\n",
    "            self.build_dim_employment().to_excel(writer, sheet_name='DimEmployment', index=False)\n",
    "            self.build_dim_remote().to_excel(writer, sheet_name='DimRemoteWork', index=False)\n",
    "            self.build_dim_platform_tools().to_excel(writer, sheet_name='DimPlatformTools', index=False)\n",
    "        print(f\"✅ Đã lưu file: {output_file}\")\n",
    "\n",
    "# Gọi thực thi\n",
    "modeler = DataModeler(df)\n",
    "modeler.export_to_excel(\"mode.xlsx\")\n"
   ]
  }
 ],
 "metadata": {
  "kernelspec": {
   "display_name": "Python 3",
   "language": "python",
   "name": "python3"
  },
  "language_info": {
   "codemirror_mode": {
    "name": "ipython",
    "version": 3
   },
   "file_extension": ".py",
   "mimetype": "text/x-python",
   "name": "python",
   "nbconvert_exporter": "python",
   "pygments_lexer": "ipython3",
   "version": "3.13.0"
  }
 },
 "nbformat": 4,
 "nbformat_minor": 5
}
